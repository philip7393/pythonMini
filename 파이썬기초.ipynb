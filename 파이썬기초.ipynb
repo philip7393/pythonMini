{
 "cells": [
  {
   "cell_type": "code",
   "execution_count": 1,
   "metadata": {},
   "outputs": [
    {
     "name": "stdout",
     "output_type": "stream",
     "text": [
      "3\n",
      "5\n"
     ]
    }
   ],
   "source": [
    "a=3\n",
    "A=5\n",
    "print(a)\n",
    "print(A)"
   ]
  },
  {
   "cell_type": "code",
   "execution_count": 2,
   "metadata": {},
   "outputs": [
    {
     "ename": "SyntaxError",
     "evalue": "invalid syntax (<ipython-input-2-ea85cb5e90bf>, line 1)",
     "output_type": "error",
     "traceback": [
      "\u001b[1;36m  File \u001b[1;32m\"<ipython-input-2-ea85cb5e90bf>\"\u001b[1;36m, line \u001b[1;32m1\u001b[0m\n\u001b[1;33m    3A = 2\u001b[0m\n\u001b[1;37m     ^\u001b[0m\n\u001b[1;31mSyntaxError\u001b[0m\u001b[1;31m:\u001b[0m invalid syntax\n"
     ]
    }
   ],
   "source": [
    "3A = 2"
   ]
  },
  {
   "cell_type": "code",
   "execution_count": 3,
   "metadata": {},
   "outputs": [
    {
     "ename": "SyntaxError",
     "evalue": "invalid syntax (<ipython-input-3-d8d9c52e09ce>, line 1)",
     "output_type": "error",
     "traceback": [
      "\u001b[1;36m  File \u001b[1;32m\"<ipython-input-3-d8d9c52e09ce>\"\u001b[1;36m, line \u001b[1;32m1\u001b[0m\n\u001b[1;33m    if = 3\u001b[0m\n\u001b[1;37m       ^\u001b[0m\n\u001b[1;31mSyntaxError\u001b[0m\u001b[1;31m:\u001b[0m invalid syntax\n"
     ]
    }
   ],
   "source": [
    "if = 3 "
   ]
  },
  {
   "cell_type": "code",
   "execution_count": 4,
   "metadata": {},
   "outputs": [
    {
     "data": {
      "text/plain": [
       "int"
      ]
     },
     "execution_count": 4,
     "metadata": {},
     "output_type": "execute_result"
    }
   ],
   "source": [
    "type(A)"
   ]
  },
  {
   "cell_type": "code",
   "execution_count": 5,
   "metadata": {},
   "outputs": [
    {
     "data": {
      "text/plain": [
       "int"
      ]
     },
     "execution_count": 5,
     "metadata": {},
     "output_type": "execute_result"
    }
   ],
   "source": [
    "type(a)"
   ]
  },
  {
   "cell_type": "code",
   "execution_count": 1,
   "metadata": {},
   "outputs": [
    {
     "name": "stdout",
     "output_type": "stream",
     "text": [
      "2020-03-14 06:06:48.917250\n",
      "12\n"
     ]
    }
   ],
   "source": [
    "from datetime import datetime\n",
    "now = datetime.now()\n",
    "print(now)\n",
    "a = now.hour\n",
    "b = now.minute\n",
    "print(a+b)"
   ]
  },
  {
   "cell_type": "code",
   "execution_count": 7,
   "metadata": {},
   "outputs": [],
   "source": [
    "aType=\"This is 'String' value\""
   ]
  },
  {
   "cell_type": "code",
   "execution_count": 8,
   "metadata": {},
   "outputs": [
    {
     "data": {
      "text/plain": [
       "\"This is 'String' value\""
      ]
     },
     "execution_count": 8,
     "metadata": {},
     "output_type": "execute_result"
    }
   ],
   "source": [
    "aType"
   ]
  },
  {
   "cell_type": "code",
   "execution_count": 9,
   "metadata": {},
   "outputs": [
    {
     "name": "stdout",
     "output_type": "stream",
     "text": [
      "This is 'string' value\n"
     ]
    }
   ],
   "source": [
    "cType=\"\"\"This is 'string' value\"\"\"\n",
    "print(cType)"
   ]
  },
  {
   "cell_type": "code",
   "execution_count": 10,
   "metadata": {},
   "outputs": [],
   "source": [
    "head = \"Smart\""
   ]
  },
  {
   "cell_type": "code",
   "execution_count": 11,
   "metadata": {},
   "outputs": [
    {
     "name": "stdout",
     "output_type": "stream",
     "text": [
      "Smart analytics\n"
     ]
    }
   ],
   "source": [
    "tail = \"analytics\"\n",
    "fullString = head + \" \" + tail\n",
    "print(fullString)"
   ]
  },
  {
   "cell_type": "code",
   "execution_count": 12,
   "metadata": {},
   "outputs": [
    {
     "name": "stdout",
     "output_type": "stream",
     "text": [
      "*\n"
     ]
    }
   ],
   "source": [
    "print(\"*\")"
   ]
  },
  {
   "cell_type": "code",
   "execution_count": 13,
   "metadata": {},
   "outputs": [
    {
     "name": "stdout",
     "output_type": "stream",
     "text": [
      "******************** 문자열 연산 프로그램 \n"
     ]
    }
   ],
   "source": [
    "print(\"*\"*20 + \" 문자열 연산 프로그램 \")"
   ]
  },
  {
   "cell_type": "code",
   "execution_count": 14,
   "metadata": {},
   "outputs": [
    {
     "name": "stdout",
     "output_type": "stream",
     "text": [
      "******************** 문자열 연산 프로그램 ********************\n"
     ]
    }
   ],
   "source": [
    "print(\"*\"*20 + \" 문자열 연산 프로그램 \"+\"*\"*20)"
   ]
  },
  {
   "cell_type": "code",
   "execution_count": 15,
   "metadata": {},
   "outputs": [
    {
     "name": "stdout",
     "output_type": "stream",
     "text": [
      "2\n",
      "2018\n",
      "01\n"
     ]
    }
   ],
   "source": [
    "yearweek = \"201801\"\n",
    "print(yearweek[0])\n",
    "print(yearweek[0:4])\n",
    "print(yearweek[4:])"
   ]
  },
  {
   "cell_type": "code",
   "execution_count": 16,
   "metadata": {},
   "outputs": [
    {
     "name": "stdout",
     "output_type": "stream",
     "text": [
      "1\n"
     ]
    }
   ],
   "source": [
    "yearweek = \"2017W28\"\n",
    "print(yearweek.count('W'))"
   ]
  },
  {
   "cell_type": "code",
   "execution_count": 17,
   "metadata": {},
   "outputs": [
    {
     "name": "stdout",
     "output_type": "stream",
     "text": [
      "4\n",
      "['201728']\n"
     ]
    }
   ],
   "source": [
    "print(yearweek.index('W'))\n",
    "delimeter = yearweek.index('W')\n",
    "yearweek_new = yearweek[:delimeter] + yearweek[delimeter+1:]\n",
    "print([yearweek_new])"
   ]
  },
  {
   "cell_type": "code",
   "execution_count": 18,
   "metadata": {},
   "outputs": [
    {
     "ename": "TypeError",
     "evalue": "upper() takes no arguments (1 given)",
     "output_type": "error",
     "traceback": [
      "\u001b[1;31m---------------------------------------------------------------------------\u001b[0m",
      "\u001b[1;31mTypeError\u001b[0m                                 Traceback (most recent call last)",
      "\u001b[1;32m<ipython-input-18-70a30944ff76>\u001b[0m in \u001b[0;36m<module>\u001b[1;34m\u001b[0m\n\u001b[1;32m----> 1\u001b[1;33m \u001b[0mprint\u001b[0m\u001b[1;33m(\u001b[0m\u001b[0myearweek\u001b[0m\u001b[1;33m.\u001b[0m\u001b[0mupper\u001b[0m\u001b[1;33m(\u001b[0m\u001b[1;34m'W'\u001b[0m\u001b[1;33m)\u001b[0m\u001b[1;33m)\u001b[0m\u001b[1;33m\u001b[0m\u001b[1;33m\u001b[0m\u001b[0m\n\u001b[0m",
      "\u001b[1;31mTypeError\u001b[0m: upper() takes no arguments (1 given)"
     ]
    }
   ],
   "source": [
    "print(yearweek.upper('W'))"
   ]
  },
  {
   "cell_type": "code",
   "execution_count": 20,
   "metadata": {},
   "outputs": [
    {
     "name": "stdout",
     "output_type": "stream",
     "text": [
      "['2017', '28']\n"
     ]
    }
   ],
   "source": [
    "earweek_list = yearweek.split(\"W\")\n",
    "print(yearweek_list)"
   ]
  },
  {
   "cell_type": "code",
   "execution_count": 2,
   "metadata": {},
   "outputs": [
    {
     "name": "stdout",
     "output_type": "stream",
     "text": [
      "SEC 20180212 250\n",
      "stock_name: SEC\n",
      "date: 20180212\n",
      "value: 250\n"
     ]
    }
   ],
   "source": [
    "stringName = \"SEC 20180212 250\"\n",
    "print(stringName)\n",
    "stock_name = stringName[0:3]\n",
    "print(\"stock_name:\",stock_name)\n",
    "date = stringName[4:12]\n",
    "print(\"date:\",date)\n",
    "value = stringName[13:16]\n",
    "print(\"value:\",value)"
   ]
  },
  {
   "cell_type": "code",
   "execution_count": 3,
   "metadata": {},
   "outputs": [
    {
     "name": "stdout",
     "output_type": "stream",
     "text": [
      "SEC 201828 250\n",
      "stock_name: SEC\n",
      "date: 201828\n",
      "value: 250\n"
     ]
    }
   ],
   "source": [
    "stringName2 = \"Sec 2018W28 250\"\n",
    "stringName2_upper = stringName2.upper()\n",
    "stringName2_list = stringName2_upper[0:8] + stringName2_upper[9:15]\n",
    "print(stringName2_list)\n",
    "stock_name = stringName2_list[0:3]\n",
    "print(\"stock_name:\",stock_name)\n",
    "date = stringName2_list[4:10]\n",
    "print(\"date:\",date)\n",
    "value = stringName2_list[11:14]\n",
    "print(\"value:\",value)"
   ]
  },
  {
   "cell_type": "code",
   "execution_count": 66,
   "metadata": {},
   "outputs": [
    {
     "name": "stdout",
     "output_type": "stream",
     "text": [
      "[]\n"
     ]
    }
   ],
   "source": [
    "emptyList = []\n",
    "print(emptyList)"
   ]
  },
  {
   "cell_type": "code",
   "execution_count": 67,
   "metadata": {},
   "outputs": [
    {
     "name": "stdout",
     "output_type": "stream",
     "text": [
      "['SEC', 120, 130, [201712, 201713]]\n"
     ]
    }
   ],
   "source": [
    "stockName = [\"SEC\"]\n",
    "priceList = [120,130]\n",
    "dateList = [201712, 201713]\n",
    "\n",
    "secinfo = stockName + priceList + [dateList]\n",
    "print(secinfo)"
   ]
  },
  {
   "cell_type": "code",
   "execution_count": 68,
   "metadata": {},
   "outputs": [
    {
     "name": "stdout",
     "output_type": "stream",
     "text": [
      "120\n",
      "[201712, 201713]\n",
      "201712\n",
      "['SEC', 120, 130]\n"
     ]
    }
   ],
   "source": [
    "print(secinfo[1])\n",
    "print(secinfo[3])\n",
    "print(secinfo[3][0])\n",
    "print(secinfo[0:3])"
   ]
  },
  {
   "cell_type": "code",
   "execution_count": 70,
   "metadata": {},
   "outputs": [
    {
     "name": "stdout",
     "output_type": "stream",
     "text": [
      "[120, 130, 140, 150]\n",
      "[120, 130, 180, 150]\n",
      "[120, 130, 180]\n",
      "[120]\n"
     ]
    }
   ],
   "source": [
    "updateList = [120, 130, 140, 150]\n",
    "print(updateList)\n",
    "updateList[2] = 180\n",
    "print(updateList)\n",
    "del updateList[3]\n",
    "print(updateList)\n",
    "updateList[1:3] = []\n",
    "print(updateList)"
   ]
  },
  {
   "cell_type": "code",
   "execution_count": 71,
   "metadata": {
    "scrolled": true
   },
   "outputs": [
    {
     "name": "stdout",
     "output_type": "stream",
     "text": [
      "[120, 130, 140, 150, 100]\n",
      "[120, 130, 140, 100, 150, 100]\n",
      "[120, 130, 140, 100, 150, 100, 11, 12]\n"
     ]
    }
   ],
   "source": [
    "functionList = [120, 130, 140, 150]\n",
    "functionList.append(100)\n",
    "print(functionList)\n",
    "functionList.insert(3, 100)\n",
    "print(functionList)\n",
    "functionList.extend([11, 12])\n",
    "print(functionList)"
   ]
  },
  {
   "cell_type": "code",
   "execution_count": 72,
   "metadata": {},
   "outputs": [
    {
     "name": "stdout",
     "output_type": "stream",
     "text": [
      "[11, 12, 100, 100, 120, 130, 140, 150]\n"
     ]
    }
   ],
   "source": [
    "functionList.sort(reverse = False)\n",
    "print(functionList)"
   ]
  },
  {
   "cell_type": "code",
   "execution_count": 73,
   "metadata": {},
   "outputs": [
    {
     "name": "stdout",
     "output_type": "stream",
     "text": [
      "7\n"
     ]
    }
   ],
   "source": [
    "print(functionList.index(150))"
   ]
  },
  {
   "cell_type": "code",
   "execution_count": 74,
   "metadata": {},
   "outputs": [
    {
     "name": "stdout",
     "output_type": "stream",
     "text": [
      "8\n",
      "11\n",
      "150\n",
      "763\n"
     ]
    }
   ],
   "source": [
    "print(len(functionList))\n",
    "print(min(functionList))\n",
    "print(max(functionList))\n",
    "print(sum(functionList))"
   ]
  },
  {
   "cell_type": "code",
   "execution_count": 75,
   "metadata": {},
   "outputs": [
    {
     "data": {
      "text/plain": [
       "2"
      ]
     },
     "execution_count": 75,
     "metadata": {},
     "output_type": "execute_result"
    }
   ],
   "source": [
    "functionList = [120, 130, 140, 150, 120]\n",
    "functionList.count(120)"
   ]
  },
  {
   "cell_type": "code",
   "execution_count": 76,
   "metadata": {},
   "outputs": [
    {
     "data": {
      "text/plain": [
       "120"
      ]
     },
     "execution_count": 76,
     "metadata": {},
     "output_type": "execute_result"
    }
   ],
   "source": [
    "functionList.pop()"
   ]
  },
  {
   "cell_type": "code",
   "execution_count": 77,
   "metadata": {},
   "outputs": [
    {
     "name": "stdout",
     "output_type": "stream",
     "text": [
      "[120, 130, 140, 150]\n"
     ]
    }
   ],
   "source": [
    "print(functionList)"
   ]
  },
  {
   "cell_type": "code",
   "execution_count": 84,
   "metadata": {},
   "outputs": [
    {
     "name": "stdout",
     "output_type": "stream",
     "text": [
      "[120, 150, 300, 500, 1000, 2000]\n",
      "[120, 150, 300, 500, 1000]\n",
      "414.0\n"
     ]
    }
   ],
   "source": [
    "List = [120,150, 300, 500, 1000, 100, 2000]\n",
    "\n",
    "del List[List.index(min(List))]\n",
    "print(List)\n",
    "del List[List.index(max(List))]\n",
    "print(List)\n",
    "\n",
    "average = sum(List) / len(List)\n",
    "print(average)"
   ]
  },
  {
   "cell_type": "code",
   "execution_count": 85,
   "metadata": {},
   "outputs": [
    {
     "name": "stdout",
     "output_type": "stream",
     "text": [
      "{'name': 'sec', 'id': '300000', 'address': 'suwon'}\n",
      "sec\n"
     ]
    }
   ],
   "source": [
    "dic = {\"name\":\"sec\", \"id\":\"300000\", \"address\":\"suwon\"}\n",
    "print(dic)\n",
    "print(dic['name'])"
   ]
  },
  {
   "cell_type": "code",
   "execution_count": 86,
   "metadata": {},
   "outputs": [
    {
     "name": "stdout",
     "output_type": "stream",
     "text": [
      "{'name': 'sec2', 'id': '300000', 'address': 'suwon', 'stock': 'yes'}\n",
      "yes\n"
     ]
    }
   ],
   "source": [
    "dic[\"name\"] = \"sec2\"\n",
    "dic[\"stock\"] = \"yes\"\n",
    "print(dic)\n",
    "print(dic[\"stock\"])"
   ]
  },
  {
   "cell_type": "code",
   "execution_count": 87,
   "metadata": {},
   "outputs": [
    {
     "name": "stdout",
     "output_type": "stream",
     "text": [
      "{'name': 'sec2', 'address': 'suwon', 'stock': 'yes'}\n"
     ]
    }
   ],
   "source": [
    "del dic[\"id\"]\n",
    "print(dic)"
   ]
  },
  {
   "cell_type": "code",
   "execution_count": 89,
   "metadata": {},
   "outputs": [
    {
     "name": "stdout",
     "output_type": "stream",
     "text": [
      "{'name': 'sec', 'address': 'suwon'}\n"
     ]
    }
   ],
   "source": [
    "dic = {\"name\":\"sec\", \"id\":\"300000\", \"address\":\"suwon\"}\n",
    "del dic[\"id\"]\n",
    "print(dic)"
   ]
  },
  {
   "cell_type": "code",
   "execution_count": 90,
   "metadata": {},
   "outputs": [
    {
     "name": "stdout",
     "output_type": "stream",
     "text": [
      "  name  age  stock_age\n",
      "0  A고객   27          2\n",
      "1  B고객   40         10\n",
      "2  C고객   33          5\n",
      "3  D고객   29          1\n"
     ]
    }
   ],
   "source": [
    "import pandas as pd\n",
    "data = {'name':['A고객','B고객','C고객','D고객'],\n",
    "       'age':[27,40,33,29],\n",
    "       'stock_age':[2,10,5,1]}\n",
    "dataFrame = pd.DataFrame(data)\n",
    "print(dataFrame)"
   ]
  },
  {
   "cell_type": "code",
   "execution_count": 91,
   "metadata": {},
   "outputs": [
    {
     "data": {
      "text/html": [
       "<div>\n",
       "<style scoped>\n",
       "    .dataframe tbody tr th:only-of-type {\n",
       "        vertical-align: middle;\n",
       "    }\n",
       "\n",
       "    .dataframe tbody tr th {\n",
       "        vertical-align: top;\n",
       "    }\n",
       "\n",
       "    .dataframe thead th {\n",
       "        text-align: right;\n",
       "    }\n",
       "</style>\n",
       "<table border=\"1\" class=\"dataframe\">\n",
       "  <thead>\n",
       "    <tr style=\"text-align: right;\">\n",
       "      <th></th>\n",
       "      <th>0</th>\n",
       "    </tr>\n",
       "  </thead>\n",
       "  <tbody>\n",
       "    <tr>\n",
       "      <td>0</td>\n",
       "      <td>10</td>\n",
       "    </tr>\n",
       "    <tr>\n",
       "      <td>1</td>\n",
       "      <td>100</td>\n",
       "    </tr>\n",
       "    <tr>\n",
       "      <td>2</td>\n",
       "      <td>1000</td>\n",
       "    </tr>\n",
       "    <tr>\n",
       "      <td>3</td>\n",
       "      <td>10000</td>\n",
       "    </tr>\n",
       "  </tbody>\n",
       "</table>\n",
       "</div>"
      ],
      "text/plain": [
       "       0\n",
       "0     10\n",
       "1    100\n",
       "2   1000\n",
       "3  10000"
      ]
     },
     "execution_count": 91,
     "metadata": {},
     "output_type": "execute_result"
    }
   ],
   "source": [
    "import pandas as pd\n",
    "test = [10,100,1000,10000]\n",
    "testDf=pd.DataFrame(test)\n",
    "testDf"
   ]
  },
  {
   "cell_type": "code",
   "execution_count": 92,
   "metadata": {},
   "outputs": [
    {
     "data": {
      "text/html": [
       "<div>\n",
       "<style scoped>\n",
       "    .dataframe tbody tr th:only-of-type {\n",
       "        vertical-align: middle;\n",
       "    }\n",
       "\n",
       "    .dataframe tbody tr th {\n",
       "        vertical-align: top;\n",
       "    }\n",
       "\n",
       "    .dataframe thead th {\n",
       "        text-align: right;\n",
       "    }\n",
       "</style>\n",
       "<table border=\"1\" class=\"dataframe\">\n",
       "  <thead>\n",
       "    <tr style=\"text-align: right;\">\n",
       "      <th></th>\n",
       "      <th>test</th>\n",
       "    </tr>\n",
       "  </thead>\n",
       "  <tbody>\n",
       "    <tr>\n",
       "      <td>0</td>\n",
       "      <td>10</td>\n",
       "    </tr>\n",
       "    <tr>\n",
       "      <td>1</td>\n",
       "      <td>100</td>\n",
       "    </tr>\n",
       "    <tr>\n",
       "      <td>2</td>\n",
       "      <td>1000</td>\n",
       "    </tr>\n",
       "    <tr>\n",
       "      <td>3</td>\n",
       "      <td>10000</td>\n",
       "    </tr>\n",
       "  </tbody>\n",
       "</table>\n",
       "</div>"
      ],
      "text/plain": [
       "    test\n",
       "0     10\n",
       "1    100\n",
       "2   1000\n",
       "3  10000"
      ]
     },
     "execution_count": 92,
     "metadata": {},
     "output_type": "execute_result"
    }
   ],
   "source": [
    "testDf.columns=[\"test\"]\n",
    "testDf"
   ]
  },
  {
   "cell_type": "code",
   "execution_count": 103,
   "metadata": {},
   "outputs": [],
   "source": [
    "import pandas as pd\n",
    "data = ['16.02.29','16.02.26','16.02.25','16.02.24','16.02.23']\n",
    "date2 = ['17.02.29','17.02.26','17.02.25','17.02.24','17.02.23']"
   ]
  },
  {
   "cell_type": "code",
   "execution_count": 105,
   "metadata": {},
   "outputs": [
    {
     "ename": "ValueError",
     "evalue": "DataFrame constructor not properly called!",
     "output_type": "error",
     "traceback": [
      "\u001b[1;31m---------------------------------------------------------------------------\u001b[0m",
      "\u001b[1;31mValueError\u001b[0m                                Traceback (most recent call last)",
      "\u001b[1;32m<ipython-input-105-1a83723a1d41>\u001b[0m in \u001b[0;36m<module>\u001b[1;34m\u001b[0m\n\u001b[1;32m----> 1\u001b[1;33m \u001b[0mdate_df\u001b[0m \u001b[1;33m=\u001b[0m \u001b[0mpd\u001b[0m\u001b[1;33m.\u001b[0m\u001b[0mDataFrame\u001b[0m\u001b[1;33m(\u001b[0m\u001b[0mdate\u001b[0m\u001b[1;33m,\u001b[0m \u001b[0mcolumns\u001b[0m\u001b[1;33m=\u001b[0m\u001b[1;33m[\u001b[0m\u001b[1;34m'date2'\u001b[0m\u001b[1;33m]\u001b[0m\u001b[1;33m)\u001b[0m\u001b[1;33m\u001b[0m\u001b[1;33m\u001b[0m\u001b[0m\n\u001b[0m\u001b[0;32m      2\u001b[0m \u001b[0mdate_df2\u001b[0m \u001b[1;33m=\u001b[0m \u001b[0mpd\u001b[0m\u001b[1;33m.\u001b[0m\u001b[0mDataFrame\u001b[0m\u001b[1;33m(\u001b[0m\u001b[0mdate2\u001b[0m\u001b[1;33m,\u001b[0m \u001b[0mcolumns\u001b[0m\u001b[1;33m=\u001b[0m\u001b[1;33m[\u001b[0m\u001b[1;34m'date23'\u001b[0m\u001b[1;33m]\u001b[0m\u001b[1;33m)\u001b[0m\u001b[1;33m\u001b[0m\u001b[1;33m\u001b[0m\u001b[0m\n\u001b[0;32m      3\u001b[0m \u001b[0mfinal\u001b[0m \u001b[1;33m=\u001b[0m \u001b[0mpd\u001b[0m\u001b[1;33m.\u001b[0m\u001b[0mconcat\u001b[0m\u001b[1;33m(\u001b[0m\u001b[1;33m[\u001b[0m\u001b[0mdate_df\u001b[0m\u001b[1;33m,\u001b[0m\u001b[0mdate_df2\u001b[0m\u001b[1;33m]\u001b[0m\u001b[1;33m,\u001b[0m\u001b[0maxis\u001b[0m\u001b[1;33m=\u001b[0m\u001b[1;36m1\u001b[0m\u001b[1;33m)\u001b[0m\u001b[1;33m\u001b[0m\u001b[1;33m\u001b[0m\u001b[0m\n\u001b[0;32m      4\u001b[0m \u001b[0mfinal\u001b[0m\u001b[1;33m\u001b[0m\u001b[1;33m\u001b[0m\u001b[0m\n",
      "\u001b[1;32m~\\Anaconda3\\lib\\site-packages\\pandas\\core\\frame.py\u001b[0m in \u001b[0;36m__init__\u001b[1;34m(self, data, index, columns, dtype, copy)\u001b[0m\n\u001b[0;32m    483\u001b[0m                 )\n\u001b[0;32m    484\u001b[0m             \u001b[1;32melse\u001b[0m\u001b[1;33m:\u001b[0m\u001b[1;33m\u001b[0m\u001b[1;33m\u001b[0m\u001b[0m\n\u001b[1;32m--> 485\u001b[1;33m                 \u001b[1;32mraise\u001b[0m \u001b[0mValueError\u001b[0m\u001b[1;33m(\u001b[0m\u001b[1;34m\"DataFrame constructor not properly called!\"\u001b[0m\u001b[1;33m)\u001b[0m\u001b[1;33m\u001b[0m\u001b[1;33m\u001b[0m\u001b[0m\n\u001b[0m\u001b[0;32m    486\u001b[0m \u001b[1;33m\u001b[0m\u001b[0m\n\u001b[0;32m    487\u001b[0m         \u001b[0mNDFrame\u001b[0m\u001b[1;33m.\u001b[0m\u001b[0m__init__\u001b[0m\u001b[1;33m(\u001b[0m\u001b[0mself\u001b[0m\u001b[1;33m,\u001b[0m \u001b[0mmgr\u001b[0m\u001b[1;33m,\u001b[0m \u001b[0mfastpath\u001b[0m\u001b[1;33m=\u001b[0m\u001b[1;32mTrue\u001b[0m\u001b[1;33m)\u001b[0m\u001b[1;33m\u001b[0m\u001b[1;33m\u001b[0m\u001b[0m\n",
      "\u001b[1;31mValueError\u001b[0m: DataFrame constructor not properly called!"
     ]
    }
   ],
   "source": [
    "date_df = pd.DataFrame(date, columns=['date2'])\n",
    "date_df2 = pd.DataFrame(date2, columns=['date23'])\n",
    "final = pd.concat([date_df,date_df2],axis=1)\n",
    "final"
   ]
  },
  {
   "cell_type": "code",
   "execution_count": 106,
   "metadata": {},
   "outputs": [
    {
     "data": {
      "text/html": [
       "<div>\n",
       "<style scoped>\n",
       "    .dataframe tbody tr th:only-of-type {\n",
       "        vertical-align: middle;\n",
       "    }\n",
       "\n",
       "    .dataframe tbody tr th {\n",
       "        vertical-align: top;\n",
       "    }\n",
       "\n",
       "    .dataframe thead th {\n",
       "        text-align: right;\n",
       "    }\n",
       "</style>\n",
       "<table border=\"1\" class=\"dataframe\">\n",
       "  <thead>\n",
       "    <tr style=\"text-align: right;\">\n",
       "      <th></th>\n",
       "      <th>언어</th>\n",
       "      <th>색깔</th>\n",
       "    </tr>\n",
       "  </thead>\n",
       "  <tbody>\n",
       "    <tr>\n",
       "      <td>0</td>\n",
       "      <td>파이썬</td>\n",
       "      <td>노랑</td>\n",
       "    </tr>\n",
       "    <tr>\n",
       "      <td>1</td>\n",
       "      <td>자바</td>\n",
       "      <td>파랑</td>\n",
       "    </tr>\n",
       "    <tr>\n",
       "      <td>2</td>\n",
       "      <td>씨샵</td>\n",
       "      <td>빨강</td>\n",
       "    </tr>\n",
       "  </tbody>\n",
       "</table>\n",
       "</div>"
      ],
      "text/plain": [
       "    언어  색깔\n",
       "0  파이썬  노랑\n",
       "1   자바  파랑\n",
       "2   씨샵  빨강"
      ]
     },
     "execution_count": 106,
     "metadata": {},
     "output_type": "execute_result"
    }
   ],
   "source": [
    "import pandas as pd\n",
    "favorite = ['파이썬','자바','씨샵']\n",
    "favorite2 = ['노랑','파랑','빨강']\n",
    "\n",
    "favorite_df = pd.DataFrame(favorite, columns=['언어'])\n",
    "favorite_df2 = pd.DataFrame(favorite2, columns=['색깔'])\n",
    "\n",
    "final = pd.concat([favorite_df, favorite_df2], axis = 1)\n",
    "final"
   ]
  },
  {
   "cell_type": "code",
   "execution_count": 5,
   "metadata": {},
   "outputs": [
    {
     "name": "stdout",
     "output_type": "stream",
     "text": [
      "['UN40EN001', 'UN40EN002', 'UN40EN003', 'UN40EN004']\n"
     ]
    }
   ],
   "source": [
    "tvList = ['UN40EN001','UN40EN002','UN40EN003','UN40EN004']\n",
    "print(tvList)"
   ]
  },
  {
   "cell_type": "code",
   "execution_count": 114,
   "metadata": {},
   "outputs": [
    {
     "name": "stdout",
     "output_type": "stream",
     "text": [
      "['LEDTV_UN40EN001', 'LEDTV_UN40EN002', 'LEDTV_UN40EN003', 'LEDTV_UN40EN004']\n"
     ]
    }
   ],
   "source": [
    "preFix = \"LEDTV_\"\n",
    "for i in range(0,4):\n",
    "    tvList[i] = preFix + tvList[i]\n",
    "print(tvList)"
   ]
  },
  {
   "cell_type": "code",
   "execution_count": 115,
   "metadata": {},
   "outputs": [
    {
     "name": "stdout",
     "output_type": "stream",
     "text": [
      "['LEDTV_LEDTV_UN40EN001', 'LEDTV_LEDTV_UN40EN002', 'LEDTV_LEDTV_UN40EN003', 'LEDTV_LEDTV_UN40EN004']\n"
     ]
    }
   ],
   "source": [
    "preFix = \"LEDTV_\"\n",
    "i = 0\n",
    "listLength = len(tvList)\n",
    "while(i < listLength):\n",
    "    tvList[i] = preFix + tvList[i]\n",
    "    i = i + 1\n",
    "print(tvList)"
   ]
  },
  {
   "cell_type": "code",
   "execution_count": 144,
   "metadata": {},
   "outputs": [
    {
     "name": "stdout",
     "output_type": "stream",
     "text": [
      "['UN40EN001', 'UN40EN002', 'UN40EN003', 'UN40EN004']\n"
     ]
    }
   ],
   "source": [
    "tvList = ['UN40EN001','UN40EN002','UN40EN003','UN40EN004']\n",
    "for i in range(0,4):\n",
    "    tvList2 = [tvList[i-3],tvList[i-2],tvList[i-1],tvList[i]]\n",
    "print(tvList2)"
   ]
  },
  {
   "cell_type": "code",
   "execution_count": 145,
   "metadata": {},
   "outputs": [
    {
     "name": "stdout",
     "output_type": "stream",
     "text": [
      "['LEDTV_UN40EN001', 'LEDTV_UN40EN002', 'LEDTV_UN40EN003', 'LEDTV_UN40EN004']\n"
     ]
    }
   ],
   "source": [
    "tvList2 = ['UN40EN001','LEDTV_UN40EN002','LEDTV_UN40EN003','UN40EN004']\n",
    "preFix = \"LEDTV_\"\n",
    "\n",
    "for i in range(0,4):\n",
    "    preFixCount = tvList2[i].count(preFix)\n",
    "    if(preFixCount == 0):\n",
    "        tvList2[i] = preFix + tvList2[i]\n",
    "    else:\n",
    "        tvList2[i] = tvList2[i]\n",
    "print(tvList2)"
   ]
  },
  {
   "cell_type": "code",
   "execution_count": 6,
   "metadata": {},
   "outputs": [
    {
     "name": "stdout",
     "output_type": "stream",
     "text": [
      "['LEDTV_UN40EN001', 'LEDTV_UN40EN002', 'LEDTV_UN40EN003', 'LEDTV_UN40EN004']\n"
     ]
    }
   ],
   "source": [
    "# 해결 완료\n",
    "\n",
    "tvList2 = ['UN40EN001','LEDTV_UN40EN002','LEDTV_LEDTV_UN40EN003','UN40EN004']\n",
    "preFix = \"LEDTV_\"\n",
    "\n",
    "#모든 리스트에 \"LEDTV_\"를 합친후 2개 이상 붙을시 삭제\n",
    "for i in range(0,4):\n",
    "    \n",
    "    tvList2[i] = preFix + tvList2[i]\n",
    "    preFixCount = tvList2[i].count(preFix)\n",
    "\n",
    "    if(preFixCount >= 2):\n",
    "        tvList2[i] = tvList2[i].split(\"_\")\n",
    "        tvList2[i] = tvList2[i][-1]\n",
    "        tvList2[i] = preFix + tvList2[i]\n",
    "        \n",
    "    else:\n",
    "        tvList2[i] = tvList2[i]\n",
    "      \n",
    "print(tvList2)\n"
   ]
  },
  {
   "cell_type": "code",
   "execution_count": 10,
   "metadata": {},
   "outputs": [
    {
     "name": "stdout",
     "output_type": "stream",
     "text": [
      "6\n",
      "3\n",
      "['한국', '미국', '프랑스']\n"
     ]
    }
   ],
   "source": [
    "# 해결완료\n",
    "List = ['A01','한국','A02','미국','A03','프랑스']\n",
    "\n",
    "listLength = len(List)\n",
    "print(listLength)\n",
    "i = 0\n",
    "k = 0\n",
    "\n",
    "# \"A코드\" 카운팅: k변수\n",
    "for j in range(0,listLength):\n",
    "    if (\"A\" in List[j]):\n",
    "        k = k + 1\n",
    "    else:\n",
    "        List[j]= List[j]\n",
    "\n",
    "print(k)\n",
    "\n",
    "# A코드 없어질때까지 while문 구동(A코드 삭제시 인덱스변동고려 필요)\n",
    "while(k != 0):\n",
    "    if (\"A\" in List[i]):\n",
    "        del(List[i])\n",
    "        k = k - 1\n",
    "    else:\n",
    "        List[i] = List[i]\n",
    "        i = i + 1\n",
    "        \n",
    "print(List)\n",
    "\n",
    "#출력1 : raw 리스트 요소 갯수\n",
    "#출력2 : A코드 갯수\n",
    "#출렫3 : Sorting 된 리스트(국가코드만)"
   ]
  },
  {
   "cell_type": "code",
   "execution_count": 185,
   "metadata": {},
   "outputs": [
    {
     "name": "stdout",
     "output_type": "stream",
     "text": [
      "['한국', '미국', '프랑스']\n"
     ]
    }
   ],
   "source": [
    "List = ['A01','한국','A02','미국','A03','프랑스']\n",
    "List.remove('A01')\n",
    "List.remove('A02')\n",
    "List.remove('A03')\n",
    "print(List)"
   ]
  },
  {
   "cell_type": "code",
   "execution_count": 11,
   "metadata": {},
   "outputs": [
    {
     "name": "stdout",
     "output_type": "stream",
     "text": [
      "B\n"
     ]
    }
   ],
   "source": [
    "score = 80\n",
    "\n",
    "if (score >= 90):\n",
    "    grade = \"A\"\n",
    "elif (score >= 80):\n",
    "    grade = \"B\"\n",
    "else:\n",
    "    grade = \"C\"\n",
    "    \n",
    "print(grade)"
   ]
  },
  {
   "cell_type": "code",
   "execution_count": 3,
   "metadata": {},
   "outputs": [
    {
     "name": "stdout",
     "output_type": "stream",
     "text": [
      "188.67924528301887\n",
      "189\n",
      "1.89\n"
     ]
    }
   ],
   "source": [
    "target = 1.8867924528301887\n",
    "target_step1 = target * 100\n",
    "target_step2 = round(target_step1)\n",
    "target_step3 = target_step2/100\n",
    "print(target_step1)\n",
    "print(target_step2)\n",
    "print(target_step3)"
   ]
  },
  {
   "cell_type": "code",
   "execution_count": 8,
   "metadata": {},
   "outputs": [
    {
     "name": "stdout",
     "output_type": "stream",
     "text": [
      "1.8867924528301887\n"
     ]
    },
    {
     "data": {
      "text/plain": [
       "1.89"
      ]
     },
     "execution_count": 8,
     "metadata": {},
     "output_type": "execute_result"
    }
   ],
   "source": [
    "def roundTwo(value):\n",
    "    step1 = value * 100\n",
    "    step2 = round(step1)\n",
    "    step3 = step2 / 100\n",
    "    return step3\n",
    "a = 10\n",
    "b = 5.3\n",
    "display2Digit = a/b\n",
    "print(display2Digit)\n",
    "answer = roundTwo(display2Digit)\n",
    "answer"
   ]
  },
  {
   "cell_type": "code",
   "execution_count": 13,
   "metadata": {},
   "outputs": [
    {
     "name": "stdin",
     "output_type": "stream",
     "text": [
      "숫자 입력 :  1 2 434 34 34223 4\n"
     ]
    },
    {
     "name": "stdout",
     "output_type": "stream",
     "text": [
      "[1, 2, 434, 34, 34223, 4]\n",
      "118.5\n"
     ]
    }
   ],
   "source": [
    "data = map(int, input(\"숫자 입력 : \").split())\n",
    "List = list(data)\n",
    "print(List)\n",
    "\n",
    "def func(data):\n",
    "    del List[List.index(min(List))]\n",
    "    del List[List.index(max(List))]\n",
    "    average = sum(List) / len(List)\n",
    "    return average\n",
    "\n",
    "print(func(List))"
   ]
  },
  {
   "cell_type": "code",
   "execution_count": 19,
   "metadata": {},
   "outputs": [
    {
     "name": "stdin",
     "output_type": "stream",
     "text": [
      "숫자 입력 :  0 0 1 10 10\n"
     ]
    },
    {
     "name": "stdout",
     "output_type": "stream",
     "text": [
      "[0, 0, 1, 10, 10]\n",
      "1.0\n"
     ]
    }
   ],
   "source": [
    "data = map(int, input(\"숫자 입력 : \").split())\n",
    "List = list(data)\n",
    "print(List)\n",
    "\n",
    "def aver(List):\n",
    "    minData = min(List)\n",
    "    maxData = max(List)\n",
    "    a = List.count(minData)\n",
    "    b = List.count(maxData)\n",
    "    c = len(List)\n",
    "    average = (sum(List) - (minData*a) - (maxData*b))/(c-a-b)\n",
    "    return average\n",
    "\n",
    "print(aver(List))"
   ]
  },
  {
   "cell_type": "code",
   "execution_count": 1,
   "metadata": {},
   "outputs": [
    {
     "data": {
      "text/plain": [
       "str"
      ]
     },
     "execution_count": 1,
     "metadata": {},
     "output_type": "execute_result"
    }
   ],
   "source": [
    "a =\"korea_figthi\"\n",
    "type(a)"
   ]
  },
  {
   "cell_type": "code",
   "execution_count": 2,
   "metadata": {},
   "outputs": [
    {
     "ename": "TypeError",
     "evalue": "string indices must be integers",
     "output_type": "error",
     "traceback": [
      "\u001b[1;31m---------------------------------------------------------------------------\u001b[0m",
      "\u001b[1;31mTypeError\u001b[0m                                 Traceback (most recent call last)",
      "\u001b[1;32m<ipython-input-2-9c7a3502b8df>\u001b[0m in \u001b[0;36m<module>\u001b[1;34m\u001b[0m\n\u001b[0;32m      1\u001b[0m \u001b[0myearWeekValue\u001b[0m \u001b[1;33m=\u001b[0m \u001b[1;34m\"2017w42\"\u001b[0m\u001b[1;33m\u001b[0m\u001b[1;33m\u001b[0m\u001b[0m\n\u001b[1;32m----> 2\u001b[1;33m \u001b[0myearWeekValue\u001b[0m\u001b[1;33m[\u001b[0m\u001b[1;36m0\u001b[0m\u001b[1;33m,\u001b[0m\u001b[1;36m4\u001b[0m\u001b[1;33m]\u001b[0m\u001b[1;33m\u001b[0m\u001b[1;33m\u001b[0m\u001b[0m\n\u001b[0m",
      "\u001b[1;31mTypeError\u001b[0m: string indices must be integers"
     ]
    }
   ],
   "source": [
    "yearWeekValue = \"2017w42\"\n",
    "yearWeekValue[0,4]"
   ]
  },
  {
   "cell_type": "code",
   "execution_count": 13,
   "metadata": {},
   "outputs": [
    {
     "name": "stdout",
     "output_type": "stream",
     "text": [
      "minimum: 0\n",
      "maximum: 3103500\n",
      "count of minimum value: 256\n",
      "count of maximum value: 1\n",
      "length of List: 300000\n",
      "average of customer total list: 35248.91490376756\n"
     ]
    }
   ],
   "source": [
    "import pandas as pd\n",
    "\n",
    "customerData = pd.read_csv(r\"C:\\Users\\bh200\\Desktop/kopo_customerdata.csv\")\n",
    "customerTotalList = customerData[\"TOTAL_AMOUNT\"].tolist()\n",
    "\n",
    "minData = min(customerTotalList)\n",
    "print(\"minimum:\", minData)\n",
    "maxData = max(customerTotalList)\n",
    "print(\"maximum:\", maxData)\n",
    "\n",
    "a = customerTotalList.count(minData)\n",
    "print(\"count of minimum value:\", a)\n",
    "b = customerTotalList.count(maxData)\n",
    "print(\"count of maximum value:\", b)\n",
    "c = len(customerTotalList)\n",
    "print(\"length of List:\", c)\n",
    "\n",
    "averageData = (sum(customerTotalList) - (minData*a) - (maxData*b))/(c-a-b)\n",
    "\n",
    "print(\"average of customer total list:\", averageData)"
   ]
  },
  {
   "cell_type": "code",
   "execution_count": 14,
   "metadata": {},
   "outputs": [
    {
     "name": "stdout",
     "output_type": "stream",
     "text": [
      "minimum: 0\n",
      "maximum: 3103500\n",
      "count of minimum value: 256\n",
      "count of maximum value: 1\n",
      "length of List: 300000\n",
      "average of customer total list: 35248.91490376756\n"
     ]
    }
   ],
   "source": [
    "import pandas as pd\n",
    "\n",
    "customerData = pd.read_csv(r\"C:\\Users\\bh200\\Desktop\\pythonExample/kopo_customerdata.csv\")\n",
    "customerTotalList = customerData[\"TOTAL_AMOUNT\"].tolist()\n",
    "\n",
    "minData = min(customerTotalList)\n",
    "print(\"minimum:\", minData)\n",
    "maxData = max(customerTotalList)\n",
    "print(\"maximum:\", maxData)\n",
    "\n",
    "a = customerTotalList.count(minData)\n",
    "print(\"count of minimum value:\", a)\n",
    "b = customerTotalList.count(maxData)\n",
    "print(\"count of maximum value:\", b)\n",
    "c = len(customerTotalList)\n",
    "print(\"length of List:\", c)\n",
    "\n",
    "averageData = (sum(customerTotalList) - (minData*a) - (maxData*b))/(c-a-b)\n",
    "\n",
    "print(\"average of customer total list:\", averageData)"
   ]
  },
  {
   "cell_type": "code",
   "execution_count": null,
   "metadata": {},
   "outputs": [],
   "source": []
  }
 ],
 "metadata": {
  "kernelspec": {
   "display_name": "Python 3",
   "language": "python",
   "name": "python3"
  },
  "language_info": {
   "codemirror_mode": {
    "name": "ipython",
    "version": 3
   },
   "file_extension": ".py",
   "mimetype": "text/x-python",
   "name": "python",
   "nbconvert_exporter": "python",
   "pygments_lexer": "ipython3",
   "version": "3.7.6"
  }
 },
 "nbformat": 4,
 "nbformat_minor": 4
}
